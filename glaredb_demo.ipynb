{
 "cells": [
  {
   "metadata": {},
   "cell_type": "markdown",
   "source": "# GalreDB Demo",
   "id": "c4046698bfebda6e"
  },
  {
   "metadata": {},
   "cell_type": "markdown",
   "source": "## Setup",
   "id": "a625ec455436f8f3"
  },
  {
   "metadata": {
    "ExecuteTime": {
     "end_time": "2024-07-29T20:53:04.736089Z",
     "start_time": "2024-07-29T20:53:04.472734Z"
    }
   },
   "cell_type": "code",
   "source": [
    "import os\n",
    "from pathlib import Path\n",
    "\n",
    "import glaredb\n",
    "\n",
    "GCP_PROJECT = os.getenv(\"GCP_PROJECT\")\n",
    "GCP_SERVICE_ACCOUNT_KEY = Path(\"sa.json\").read_text()\n",
    "GCP_STORAGE_BUCKET = f\"{GCP_PROJECT}-glaredb\"\n",
    "\n",
    "SNAPSHOT_START = \"2024-06-03\"\n",
    "SNAPSHOT_END = \"2024-06-04\"\n",
    "\n",
    "con = glaredb.connect()"
   ],
   "id": "9d3868c7f8d6787b",
   "outputs": [],
   "execution_count": 1
  },
  {
   "metadata": {},
   "cell_type": "markdown",
   "source": "## Create local dataframe and external tables",
   "id": "4d4f62089167961a"
  },
  {
   "metadata": {
    "ExecuteTime": {
     "end_time": "2024-07-29T20:53:22.583732Z",
     "start_time": "2024-07-29T20:53:04.738614Z"
    }
   },
   "cell_type": "code",
   "source": [
    "projects = con.execute(\n",
    "    f\"\"\"\n",
    "    select \"SnapshotAt\", \"Type\", \"Name\", \"OpenIssuesCount\", \"StarsCount\", \"ForksCount\", \"Description\", \"Homepage\"\n",
    "    from read_bigquery('{GCP_SERVICE_ACCOUNT_KEY}', '{GCP_PROJECT}', 'glaredb', 'Projects')\n",
    "    where \"SnapshotAt\" >= '{SNAPSHOT_START}'\n",
    "      and \"SnapshotAt\" < '{SNAPSHOT_END}'\n",
    "\"\"\"\n",
    ").to_polars()\n",
    "\n",
    "con.execute(\n",
    "    f\"\"\"\n",
    "    create external table package_version_to_project\n",
    "    from gcs\n",
    "    options (\n",
    "      service_account_key = '{GCP_SERVICE_ACCOUNT_KEY}',\n",
    "      bucket = '{GCP_STORAGE_BUCKET}',\n",
    "      location = 'PackageVersionToProject/*'\n",
    "    );\n",
    "\"\"\"\n",
    ")\n",
    "\n",
    "con.execute(\n",
    "    f\"\"\"\n",
    "    create external table package_versions\n",
    "    from bigquery\n",
    "    options (\n",
    "      service_account_key = '{GCP_SERVICE_ACCOUNT_KEY}',\n",
    "      project_id = '{GCP_PROJECT}',\n",
    "      dataset_id = 'glaredb',\n",
    "      table_id = 'PackageVersions'\n",
    "    );\n",
    "\"\"\"\n",
    ")\n",
    "\n",
    "projects"
   ],
   "id": "a3bd800e4a140747",
   "outputs": [
    {
     "data": {
      "text/plain": [
       "shape: (3_776_101, 8)\n",
       "┌────────────┬────────┬────────────┬────────────┬────────────┬────────────┬────────────┬───────────┐\n",
       "│ SnapshotAt ┆ Type   ┆ Name       ┆ OpenIssues ┆ StarsCount ┆ ForksCount ┆ Descriptio ┆ Homepage  │\n",
       "│ ---        ┆ ---    ┆ ---        ┆ Count      ┆ ---        ┆ ---        ┆ n          ┆ ---       │\n",
       "│ datetime[n ┆ str    ┆ str        ┆ ---        ┆ i64        ┆ i64        ┆ ---        ┆ str       │\n",
       "│ s, UTC]    ┆        ┆            ┆ i64        ┆            ┆            ┆ str        ┆           │\n",
       "╞════════════╪════════╪════════════╪════════════╪════════════╪════════════╪════════════╪═══════════╡\n",
       "│ 2024-06-03 ┆ GITLAB ┆ zookatron/ ┆ 0          ┆ 0          ┆ 0          ┆ CLI tool   ┆ https://g │\n",
       "│ 21:00:39.9 ┆        ┆ dotenv_cli ┆            ┆            ┆            ┆ for intera ┆ itlab.com │\n",
       "│ 49274 UTC  ┆        ┆            ┆            ┆            ┆            ┆ cting with ┆ /zookatro │\n",
       "│            ┆        ┆            ┆            ┆            ┆            ┆ …          ┆ n/d…      │\n",
       "│ 2024-06-03 ┆ GITLAB ┆ zer1t0/as- ┆ 0          ┆ 0          ┆ 0          ┆ Search     ┆ https://g │\n",
       "│ 21:00:39.9 ┆        ┆ search     ┆            ┆            ┆            ┆ info in    ┆ itlab.com │\n",
       "│ 49274 UTC  ┆        ┆            ┆            ┆            ┆            ┆ Autonomous ┆ /Zer1t0/a │\n",
       "│            ┆        ┆            ┆            ┆            ┆            ┆ Syst…      ┆ s-s…      │\n",
       "│ 2024-06-03 ┆ GITLAB ┆ yannbeauxi ┆ 0          ┆ 0          ┆ 0          ┆ Python lig ┆ https://g │\n",
       "│ 21:00:39.9 ┆        ┆ s/sinagot  ┆            ┆            ┆            ┆ htweight   ┆ itlab.com │\n",
       "│ 49274 UTC  ┆        ┆            ┆            ┆            ┆            ┆ workflow   ┆ /YannBeau │\n",
       "│            ┆        ┆            ┆            ┆            ┆            ┆ ma…        ┆ xis…      │\n",
       "│ 2024-06-03 ┆ GITLAB ┆ vuthaihoc/ ┆ 0          ┆ 0          ┆ 0          ┆ [Laraveliu ┆ https://g │\n",
       "│ 21:00:39.9 ┆        ┆ sitemap    ┆            ┆            ┆            ┆ m](https:/ ┆ itlab.com │\n",
       "│ 49274 UTC  ┆        ┆            ┆            ┆            ┆            ┆ /laraveliu ┆ /vuthaiho │\n",
       "│            ┆        ┆            ┆            ┆            ┆            ┆ …          ┆ c/S…      │\n",
       "│ 2024-06-03 ┆ GITLAB ┆ zibu/commo ┆ 0          ┆ 0          ┆ 0          ┆ 通用逻辑功 ┆ https://g │\n",
       "│ 21:00:39.9 ┆        ┆ n          ┆            ┆            ┆            ┆ 能模块（包 ┆ itlab.com │\n",
       "│ 49274 UTC  ┆        ┆            ┆            ┆            ┆            ┆ 含AjaxServ ┆ /zibu/com │\n",
       "│            ┆        ┆            ┆            ┆            ┆            ┆ ice、clipb ┆ mon       │\n",
       "│            ┆        ┆            ┆            ┆            ┆            ┆ oa…        ┆           │\n",
       "│ …          ┆ …      ┆ …          ┆ …          ┆ …          ┆ …          ┆ …          ┆ …         │\n",
       "│ 2024-06-03 ┆ GITHUB ┆ adonese/no ┆ 3          ┆ 0          ┆ 0          ┆ A generic  ┆ null      │\n",
       "│ 21:00:39.9 ┆        ┆ ebs-store  ┆            ┆            ┆            ┆ database   ┆           │\n",
       "│ 49274 UTC  ┆        ┆            ┆            ┆            ┆            ┆ for noebs  ┆           │\n",
       "│            ┆        ┆            ┆            ┆            ┆            ┆ (…         ┆           │\n",
       "│ 2024-06-03 ┆ GITHUB ┆ argentcrus ┆ 3          ┆ 0          ┆ 0          ┆ [WIP       ┆ null      │\n",
       "│ 21:00:39.9 ┆        ┆ ade/crud-k ┆            ┆            ┆            ┆            ┆           │\n",
       "│ 49274 UTC  ┆        ┆ it         ┆            ┆            ┆            ┆            ┆           │\n",
       "│ 2024-06-03 ┆ GITHUB ┆ arbrain/ab ┆ 3          ┆ 0          ┆ 0          ┆ Developing ┆ null      │\n",
       "│ 21:00:39.9 ┆        ┆ rain       ┆            ┆            ┆            ┆ a generic  ┆           │\n",
       "│ 49274 UTC  ┆        ┆            ┆            ┆            ┆            ┆ framework… ┆           │\n",
       "│ 2024-06-03 ┆ GITHUB ┆ albertfazu ┆ 3          ┆ 0          ┆ 0          ┆ XHR hook   ┆ null      │\n",
       "│ 21:00:39.9 ┆        ┆ llin/fs-jw ┆            ┆            ┆            ┆ to save    ┆           │\n",
       "│ 49274 UTC  ┆        ┆ t-xhr-hook ┆            ┆            ┆            ┆ JWT into   ┆           │\n",
       "│            ┆        ┆            ┆            ┆            ┆            ┆ loca…      ┆           │\n",
       "│ 2024-06-03 ┆ GITHUB ┆ b3nsn0w/am ┆ 3          ┆ 0          ┆ 0          ┆ Node-to-no ┆ null      │\n",
       "│ 21:00:39.9 ┆        ┆ qp-swarm-g ┆            ┆            ┆            ┆ de graph   ┆           │\n",
       "│ 49274 UTC  ┆        ┆ raph       ┆            ┆            ┆            ┆ connection ┆           │\n",
       "│            ┆        ┆            ┆            ┆            ┆            ┆ s…         ┆           │\n",
       "└────────────┴────────┴────────────┴────────────┴────────────┴────────────┴────────────┴───────────┘"
      ],
      "text/html": [
       "<div><style>\n",
       ".dataframe > thead > tr,\n",
       ".dataframe > tbody > tr {\n",
       "  text-align: right;\n",
       "  white-space: pre-wrap;\n",
       "}\n",
       "</style>\n",
       "<small>shape: (3_776_101, 8)</small><table border=\"1\" class=\"dataframe\"><thead><tr><th>SnapshotAt</th><th>Type</th><th>Name</th><th>OpenIssuesCount</th><th>StarsCount</th><th>ForksCount</th><th>Description</th><th>Homepage</th></tr><tr><td>datetime[ns, UTC]</td><td>str</td><td>str</td><td>i64</td><td>i64</td><td>i64</td><td>str</td><td>str</td></tr></thead><tbody><tr><td>2024-06-03 21:00:39.949274 UTC</td><td>&quot;GITLAB&quot;</td><td>&quot;zookatron/dotenv_cli&quot;</td><td>0</td><td>0</td><td>0</td><td>&quot;CLI tool for interacting with …</td><td>&quot;https://gitlab.com/zookatron/d…</td></tr><tr><td>2024-06-03 21:00:39.949274 UTC</td><td>&quot;GITLAB&quot;</td><td>&quot;zer1t0/as-search&quot;</td><td>0</td><td>0</td><td>0</td><td>&quot;Search info in Autonomous Syst…</td><td>&quot;https://gitlab.com/Zer1t0/as-s…</td></tr><tr><td>2024-06-03 21:00:39.949274 UTC</td><td>&quot;GITLAB&quot;</td><td>&quot;yannbeauxis/sinagot&quot;</td><td>0</td><td>0</td><td>0</td><td>&quot;Python lightweight workflow ma…</td><td>&quot;https://gitlab.com/YannBeauxis…</td></tr><tr><td>2024-06-03 21:00:39.949274 UTC</td><td>&quot;GITLAB&quot;</td><td>&quot;vuthaihoc/sitemap&quot;</td><td>0</td><td>0</td><td>0</td><td>&quot;[Laravelium](https://laraveliu…</td><td>&quot;https://gitlab.com/vuthaihoc/S…</td></tr><tr><td>2024-06-03 21:00:39.949274 UTC</td><td>&quot;GITLAB&quot;</td><td>&quot;zibu/common&quot;</td><td>0</td><td>0</td><td>0</td><td>&quot;通用逻辑功能模块（包含AjaxService、clipboa…</td><td>&quot;https://gitlab.com/zibu/common&quot;</td></tr><tr><td>&hellip;</td><td>&hellip;</td><td>&hellip;</td><td>&hellip;</td><td>&hellip;</td><td>&hellip;</td><td>&hellip;</td><td>&hellip;</td></tr><tr><td>2024-06-03 21:00:39.949274 UTC</td><td>&quot;GITHUB&quot;</td><td>&quot;adonese/noebs-store&quot;</td><td>3</td><td>0</td><td>0</td><td>&quot;A generic database for noebs (…</td><td>null</td></tr><tr><td>2024-06-03 21:00:39.949274 UTC</td><td>&quot;GITHUB&quot;</td><td>&quot;argentcrusade/crud-kit&quot;</td><td>3</td><td>0</td><td>0</td><td>&quot;[WIP&quot;</td><td>null</td></tr><tr><td>2024-06-03 21:00:39.949274 UTC</td><td>&quot;GITHUB&quot;</td><td>&quot;arbrain/abrain&quot;</td><td>3</td><td>0</td><td>0</td><td>&quot;Developing a generic framework…</td><td>null</td></tr><tr><td>2024-06-03 21:00:39.949274 UTC</td><td>&quot;GITHUB&quot;</td><td>&quot;albertfazullin/fs-jwt-xhr-hook&quot;</td><td>3</td><td>0</td><td>0</td><td>&quot;XHR hook to save JWT into loca…</td><td>null</td></tr><tr><td>2024-06-03 21:00:39.949274 UTC</td><td>&quot;GITHUB&quot;</td><td>&quot;b3nsn0w/amqp-swarm-graph&quot;</td><td>3</td><td>0</td><td>0</td><td>&quot;Node-to-node graph connections…</td><td>null</td></tr></tbody></table></div>"
      ]
     },
     "execution_count": 2,
     "metadata": {},
     "output_type": "execute_result"
    }
   ],
   "execution_count": 2
  },
  {
   "metadata": {},
   "cell_type": "markdown",
   "source": "## Join local dataframe with external tables",
   "id": "3938c5c50d4701fd"
  },
  {
   "metadata": {
    "ExecuteTime": {
     "end_time": "2024-07-29T21:20:50.255943Z",
     "start_time": "2024-07-29T21:13:45.311183Z"
    }
   },
   "cell_type": "code",
   "source": [
    "con.sql(\n",
    "    f\"\"\"\n",
    "    select\n",
    "      p.\"Type\",\n",
    "      pv.\"System\",\n",
    "      count(distinct p.\"Name\") as \"Projects\"\n",
    "    from projects as p\n",
    "    left join package_version_to_project as pvp\n",
    "      on p.\"SnapshotAt\" = pvp.\"SnapshotAt\"\n",
    "      and p.\"Type\" = pvp.\"ProjectType\"\n",
    "      and p.\"Name\" = pvp.\"ProjectName\"\n",
    "    left join package_versions as pv\n",
    "      on pvp.\"SnapshotAt\" = pv.\"SnapshotAt\"\n",
    "      and pvp.\"System\" = pv.\"System\"\n",
    "      and pvp.\"Name\" = pv.\"Name\"\n",
    "      and pvp.\"Version\" = pv.\"Version\"\n",
    "    where p.\"SnapshotAt\" >= '{SNAPSHOT_START}'\n",
    "      and p.\"SnapshotAt\" < '{SNAPSHOT_END}'\n",
    "      and pv.\"System\" in ('PYPI', 'CARGO')\n",
    "    group by p.\"Type\", pv.\"System\"\n",
    "    order by \"Projects\" desc\n",
    "\"\"\"\n",
    ").to_polars()"
   ],
   "id": "initial_id",
   "outputs": [
    {
     "data": {
      "text/plain": [
       "shape: (6, 3)\n",
       "┌───────────┬────────┬──────────┐\n",
       "│ Type      ┆ System ┆ Projects │\n",
       "│ ---       ┆ ---    ┆ ---      │\n",
       "│ str       ┆ str    ┆ i64      │\n",
       "╞═══════════╪════════╪══════════╡\n",
       "│ GITHUB    ┆ PYPI   ┆ 234089   │\n",
       "│ GITHUB    ┆ CARGO  ┆ 71720    │\n",
       "│ GITLAB    ┆ PYPI   ┆ 5891     │\n",
       "│ GITLAB    ┆ CARGO  ┆ 2447     │\n",
       "│ BITBUCKET ┆ PYPI   ┆ 2064     │\n",
       "│ BITBUCKET ┆ CARGO  ┆ 96       │\n",
       "└───────────┴────────┴──────────┘"
      ],
      "text/html": [
       "<div><style>\n",
       ".dataframe > thead > tr,\n",
       ".dataframe > tbody > tr {\n",
       "  text-align: right;\n",
       "  white-space: pre-wrap;\n",
       "}\n",
       "</style>\n",
       "<small>shape: (6, 3)</small><table border=\"1\" class=\"dataframe\"><thead><tr><th>Type</th><th>System</th><th>Projects</th></tr><tr><td>str</td><td>str</td><td>i64</td></tr></thead><tbody><tr><td>&quot;GITHUB&quot;</td><td>&quot;PYPI&quot;</td><td>234089</td></tr><tr><td>&quot;GITHUB&quot;</td><td>&quot;CARGO&quot;</td><td>71720</td></tr><tr><td>&quot;GITLAB&quot;</td><td>&quot;PYPI&quot;</td><td>5891</td></tr><tr><td>&quot;GITLAB&quot;</td><td>&quot;CARGO&quot;</td><td>2447</td></tr><tr><td>&quot;BITBUCKET&quot;</td><td>&quot;PYPI&quot;</td><td>2064</td></tr><tr><td>&quot;BITBUCKET&quot;</td><td>&quot;CARGO&quot;</td><td>96</td></tr></tbody></table></div>"
      ]
     },
     "execution_count": 6,
     "metadata": {},
     "output_type": "execute_result"
    }
   ],
   "execution_count": 6
  }
 ],
 "metadata": {
  "kernelspec": {
   "display_name": "Python 3",
   "language": "python",
   "name": "python3"
  },
  "language_info": {
   "codemirror_mode": {
    "name": "ipython",
    "version": 2
   },
   "file_extension": ".py",
   "mimetype": "text/x-python",
   "name": "python",
   "nbconvert_exporter": "python",
   "pygments_lexer": "ipython2",
   "version": "2.7.6"
  }
 },
 "nbformat": 4,
 "nbformat_minor": 5
}
